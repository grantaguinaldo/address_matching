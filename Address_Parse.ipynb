{
 "cells": [
  {
   "cell_type": "code",
   "execution_count": 1,
   "metadata": {},
   "outputs": [],
   "source": [
    "import pandas as pd\n",
    "import usaddress\n",
    "from collections import Counter\n",
    "import numpy as np\n",
    "#Need to know how to handle errors."
   ]
  },
  {
   "cell_type": "code",
   "execution_count": 2,
   "metadata": {
    "collapsed": true
   },
   "outputs": [],
   "source": [
    "file = 'addresses.csv'"
   ]
  },
  {
   "cell_type": "code",
   "execution_count": 3,
   "metadata": {
    "collapsed": true
   },
   "outputs": [],
   "source": [
    "df = pd.read_csv(file)"
   ]
  },
  {
   "cell_type": "code",
   "execution_count": 4,
   "metadata": {},
   "outputs": [
    {
     "data": {
      "text/html": [
       "<div>\n",
       "<style scoped>\n",
       "    .dataframe tbody tr th:only-of-type {\n",
       "        vertical-align: middle;\n",
       "    }\n",
       "\n",
       "    .dataframe tbody tr th {\n",
       "        vertical-align: top;\n",
       "    }\n",
       "\n",
       "    .dataframe thead th {\n",
       "        text-align: right;\n",
       "    }\n",
       "</style>\n",
       "<table border=\"1\" class=\"dataframe\">\n",
       "  <thead>\n",
       "    <tr style=\"text-align: right;\">\n",
       "      <th></th>\n",
       "      <th>initial_index</th>\n",
       "      <th>raw_address</th>\n",
       "    </tr>\n",
       "  </thead>\n",
       "  <tbody>\n",
       "    <tr>\n",
       "      <th>0</th>\n",
       "      <td>1</td>\n",
       "      <td>25737 US Rt 11, Evans Mills NY 13637</td>\n",
       "    </tr>\n",
       "    <tr>\n",
       "      <th>1</th>\n",
       "      <td>2</td>\n",
       "      <td>901 Route 110, Farmingdale NY 11735</td>\n",
       "    </tr>\n",
       "    <tr>\n",
       "      <th>2</th>\n",
       "      <td>3</td>\n",
       "      <td>2400 Route 9, Fishkill NY 12524</td>\n",
       "    </tr>\n",
       "    <tr>\n",
       "      <th>3</th>\n",
       "      <td>4</td>\n",
       "      <td>10401 Bennett Road, Fredonia NY 14063</td>\n",
       "    </tr>\n",
       "    <tr>\n",
       "      <th>4</th>\n",
       "      <td>5</td>\n",
       "      <td>1818 State Route 3, Fulton NY 13069</td>\n",
       "    </tr>\n",
       "  </tbody>\n",
       "</table>\n",
       "</div>"
      ],
      "text/plain": [
       "   initial_index                            raw_address\n",
       "0              1   25737 US Rt 11, Evans Mills NY 13637\n",
       "1              2    901 Route 110, Farmingdale NY 11735\n",
       "2              3        2400 Route 9, Fishkill NY 12524\n",
       "3              4  10401 Bennett Road, Fredonia NY 14063\n",
       "4              5    1818 State Route 3, Fulton NY 13069"
      ]
     },
     "execution_count": 4,
     "metadata": {},
     "output_type": "execute_result"
    }
   ],
   "source": [
    "df.head()"
   ]
  },
  {
   "cell_type": "code",
   "execution_count": 5,
   "metadata": {
    "collapsed": true
   },
   "outputs": [],
   "source": [
    "df['parsed_address'] = ''\n",
    "df['parsed_street_name'] = ''\n",
    "df['index_parsed_address'] = ''\n",
    "df['StreetNamePreType'] = ''\n",
    "df['address_number'] = ''"
   ]
  },
  {
   "cell_type": "code",
   "execution_count": 6,
   "metadata": {},
   "outputs": [
    {
     "name": "stderr",
     "output_type": "stream",
     "text": [
      "/Users/gta/anaconda3/lib/python3.6/site-packages/ipykernel_launcher.py:4: FutureWarning: set_value is deprecated and will be removed in a future release. Please use .at[] or .iat[] accessors instead\n",
      "  after removing the cwd from sys.path.\n"
     ]
    }
   ],
   "source": [
    "index_ = []\n",
    "for index, row in df.iterrows():\n",
    "    try:\n",
    "        df.set_value(index, 'parsed_address',  usaddress.tag(row['raw_address'])[0])\n",
    "    except:\n",
    "        index_.append(index)"
   ]
  },
  {
   "cell_type": "code",
   "execution_count": 7,
   "metadata": {},
   "outputs": [
    {
     "data": {
      "text/plain": [
       "[]"
      ]
     },
     "execution_count": 7,
     "metadata": {},
     "output_type": "execute_result"
    }
   ],
   "source": [
    "index_"
   ]
  },
  {
   "cell_type": "code",
   "execution_count": 8,
   "metadata": {},
   "outputs": [
    {
     "data": {
      "text/html": [
       "<div>\n",
       "<style scoped>\n",
       "    .dataframe tbody tr th:only-of-type {\n",
       "        vertical-align: middle;\n",
       "    }\n",
       "\n",
       "    .dataframe tbody tr th {\n",
       "        vertical-align: top;\n",
       "    }\n",
       "\n",
       "    .dataframe thead th {\n",
       "        text-align: right;\n",
       "    }\n",
       "</style>\n",
       "<table border=\"1\" class=\"dataframe\">\n",
       "  <thead>\n",
       "    <tr style=\"text-align: right;\">\n",
       "      <th></th>\n",
       "      <th>initial_index</th>\n",
       "      <th>raw_address</th>\n",
       "      <th>parsed_address</th>\n",
       "      <th>parsed_street_name</th>\n",
       "      <th>index_parsed_address</th>\n",
       "      <th>StreetNamePreType</th>\n",
       "      <th>address_number</th>\n",
       "    </tr>\n",
       "  </thead>\n",
       "  <tbody>\n",
       "    <tr>\n",
       "      <th>0</th>\n",
       "      <td>1</td>\n",
       "      <td>25737 US Rt 11, Evans Mills NY 13637</td>\n",
       "      <td>{'AddressNumber': '25737', 'StreetNamePreType'...</td>\n",
       "      <td></td>\n",
       "      <td></td>\n",
       "      <td></td>\n",
       "      <td></td>\n",
       "    </tr>\n",
       "    <tr>\n",
       "      <th>1</th>\n",
       "      <td>2</td>\n",
       "      <td>901 Route 110, Farmingdale NY 11735</td>\n",
       "      <td>{'AddressNumber': '901', 'StreetNamePreType': ...</td>\n",
       "      <td></td>\n",
       "      <td></td>\n",
       "      <td></td>\n",
       "      <td></td>\n",
       "    </tr>\n",
       "    <tr>\n",
       "      <th>2</th>\n",
       "      <td>3</td>\n",
       "      <td>2400 Route 9, Fishkill NY 12524</td>\n",
       "      <td>{'AddressNumber': '2400', 'StreetNamePreType':...</td>\n",
       "      <td></td>\n",
       "      <td></td>\n",
       "      <td></td>\n",
       "      <td></td>\n",
       "    </tr>\n",
       "    <tr>\n",
       "      <th>3</th>\n",
       "      <td>4</td>\n",
       "      <td>10401 Bennett Road, Fredonia NY 14063</td>\n",
       "      <td>{'AddressNumber': '10401', 'StreetName': 'Benn...</td>\n",
       "      <td></td>\n",
       "      <td></td>\n",
       "      <td></td>\n",
       "      <td></td>\n",
       "    </tr>\n",
       "    <tr>\n",
       "      <th>4</th>\n",
       "      <td>5</td>\n",
       "      <td>1818 State Route 3, Fulton NY 13069</td>\n",
       "      <td>{'AddressNumber': '1818', 'StreetNamePreType':...</td>\n",
       "      <td></td>\n",
       "      <td></td>\n",
       "      <td></td>\n",
       "      <td></td>\n",
       "    </tr>\n",
       "  </tbody>\n",
       "</table>\n",
       "</div>"
      ],
      "text/plain": [
       "   initial_index                            raw_address  \\\n",
       "0              1   25737 US Rt 11, Evans Mills NY 13637   \n",
       "1              2    901 Route 110, Farmingdale NY 11735   \n",
       "2              3        2400 Route 9, Fishkill NY 12524   \n",
       "3              4  10401 Bennett Road, Fredonia NY 14063   \n",
       "4              5    1818 State Route 3, Fulton NY 13069   \n",
       "\n",
       "                                      parsed_address parsed_street_name  \\\n",
       "0  {'AddressNumber': '25737', 'StreetNamePreType'...                      \n",
       "1  {'AddressNumber': '901', 'StreetNamePreType': ...                      \n",
       "2  {'AddressNumber': '2400', 'StreetNamePreType':...                      \n",
       "3  {'AddressNumber': '10401', 'StreetName': 'Benn...                      \n",
       "4  {'AddressNumber': '1818', 'StreetNamePreType':...                      \n",
       "\n",
       "  index_parsed_address StreetNamePreType address_number  \n",
       "0                                                        \n",
       "1                                                        \n",
       "2                                                        \n",
       "3                                                        \n",
       "4                                                        "
      ]
     },
     "execution_count": 8,
     "metadata": {},
     "output_type": "execute_result"
    }
   ],
   "source": [
    "df.head()"
   ]
  },
  {
   "cell_type": "code",
   "execution_count": 9,
   "metadata": {},
   "outputs": [
    {
     "name": "stderr",
     "output_type": "stream",
     "text": [
      "/Users/gta/anaconda3/lib/python3.6/site-packages/ipykernel_launcher.py:4: FutureWarning: set_value is deprecated and will be removed in a future release. Please use .at[] or .iat[] accessors instead\n",
      "  after removing the cwd from sys.path.\n",
      "/Users/gta/anaconda3/lib/python3.6/site-packages/ipykernel_launcher.py:5: FutureWarning: set_value is deprecated and will be removed in a future release. Please use .at[] or .iat[] accessors instead\n",
      "  \"\"\"\n"
     ]
    }
   ],
   "source": [
    "index_ = []\n",
    "for index, row in df.iterrows():\n",
    "    try:\n",
    "        df.set_value(index, 'parsed_street_name', row['parsed_address']['StreetName'])\n",
    "        df.set_value(index, 'address_number', row['parsed_address']['AddressNumber'])\n",
    "    except:\n",
    "        index_.append(index)"
   ]
  },
  {
   "cell_type": "code",
   "execution_count": 10,
   "metadata": {},
   "outputs": [
    {
     "data": {
      "text/plain": [
       "[]"
      ]
     },
     "execution_count": 10,
     "metadata": {},
     "output_type": "execute_result"
    }
   ],
   "source": [
    "index_"
   ]
  },
  {
   "cell_type": "code",
   "execution_count": 11,
   "metadata": {},
   "outputs": [
    {
     "data": {
      "text/html": [
       "<div>\n",
       "<style scoped>\n",
       "    .dataframe tbody tr th:only-of-type {\n",
       "        vertical-align: middle;\n",
       "    }\n",
       "\n",
       "    .dataframe tbody tr th {\n",
       "        vertical-align: top;\n",
       "    }\n",
       "\n",
       "    .dataframe thead th {\n",
       "        text-align: right;\n",
       "    }\n",
       "</style>\n",
       "<table border=\"1\" class=\"dataframe\">\n",
       "  <thead>\n",
       "    <tr style=\"text-align: right;\">\n",
       "      <th></th>\n",
       "      <th>initial_index</th>\n",
       "      <th>raw_address</th>\n",
       "      <th>parsed_address</th>\n",
       "      <th>parsed_street_name</th>\n",
       "      <th>index_parsed_address</th>\n",
       "      <th>StreetNamePreType</th>\n",
       "      <th>address_number</th>\n",
       "    </tr>\n",
       "  </thead>\n",
       "  <tbody>\n",
       "    <tr>\n",
       "      <th>0</th>\n",
       "      <td>1</td>\n",
       "      <td>25737 US Rt 11, Evans Mills NY 13637</td>\n",
       "      <td>{'AddressNumber': '25737', 'StreetNamePreType'...</td>\n",
       "      <td>11</td>\n",
       "      <td></td>\n",
       "      <td></td>\n",
       "      <td>25737</td>\n",
       "    </tr>\n",
       "    <tr>\n",
       "      <th>1</th>\n",
       "      <td>2</td>\n",
       "      <td>901 Route 110, Farmingdale NY 11735</td>\n",
       "      <td>{'AddressNumber': '901', 'StreetNamePreType': ...</td>\n",
       "      <td>110</td>\n",
       "      <td></td>\n",
       "      <td></td>\n",
       "      <td>901</td>\n",
       "    </tr>\n",
       "    <tr>\n",
       "      <th>2</th>\n",
       "      <td>3</td>\n",
       "      <td>2400 Route 9, Fishkill NY 12524</td>\n",
       "      <td>{'AddressNumber': '2400', 'StreetNamePreType':...</td>\n",
       "      <td>9</td>\n",
       "      <td></td>\n",
       "      <td></td>\n",
       "      <td>2400</td>\n",
       "    </tr>\n",
       "    <tr>\n",
       "      <th>3</th>\n",
       "      <td>4</td>\n",
       "      <td>10401 Bennett Road, Fredonia NY 14063</td>\n",
       "      <td>{'AddressNumber': '10401', 'StreetName': 'Benn...</td>\n",
       "      <td>Bennett</td>\n",
       "      <td></td>\n",
       "      <td></td>\n",
       "      <td>10401</td>\n",
       "    </tr>\n",
       "    <tr>\n",
       "      <th>4</th>\n",
       "      <td>5</td>\n",
       "      <td>1818 State Route 3, Fulton NY 13069</td>\n",
       "      <td>{'AddressNumber': '1818', 'StreetNamePreType':...</td>\n",
       "      <td>3</td>\n",
       "      <td></td>\n",
       "      <td></td>\n",
       "      <td>1818</td>\n",
       "    </tr>\n",
       "  </tbody>\n",
       "</table>\n",
       "</div>"
      ],
      "text/plain": [
       "   initial_index                            raw_address  \\\n",
       "0              1   25737 US Rt 11, Evans Mills NY 13637   \n",
       "1              2    901 Route 110, Farmingdale NY 11735   \n",
       "2              3        2400 Route 9, Fishkill NY 12524   \n",
       "3              4  10401 Bennett Road, Fredonia NY 14063   \n",
       "4              5    1818 State Route 3, Fulton NY 13069   \n",
       "\n",
       "                                      parsed_address parsed_street_name  \\\n",
       "0  {'AddressNumber': '25737', 'StreetNamePreType'...                 11   \n",
       "1  {'AddressNumber': '901', 'StreetNamePreType': ...                110   \n",
       "2  {'AddressNumber': '2400', 'StreetNamePreType':...                  9   \n",
       "3  {'AddressNumber': '10401', 'StreetName': 'Benn...            Bennett   \n",
       "4  {'AddressNumber': '1818', 'StreetNamePreType':...                  3   \n",
       "\n",
       "  index_parsed_address StreetNamePreType address_number  \n",
       "0                                                 25737  \n",
       "1                                                   901  \n",
       "2                                                  2400  \n",
       "3                                                 10401  \n",
       "4                                                  1818  "
      ]
     },
     "execution_count": 11,
     "metadata": {},
     "output_type": "execute_result"
    }
   ],
   "source": [
    "df.head()"
   ]
  },
  {
   "cell_type": "code",
   "execution_count": 12,
   "metadata": {},
   "outputs": [
    {
     "name": "stderr",
     "output_type": "stream",
     "text": [
      "/Users/gta/anaconda3/lib/python3.6/site-packages/ipykernel_launcher.py:4: FutureWarning: set_value is deprecated and will be removed in a future release. Please use .at[] or .iat[] accessors instead\n",
      "  after removing the cwd from sys.path.\n"
     ]
    }
   ],
   "source": [
    "index_ = []\n",
    "for index, row in df.iterrows():\n",
    "    try:\n",
    "        df.set_value(index, 'index_parsed_address', row['parsed_address'].update({'initial_index': row['initial_index']}))\n",
    "    except:\n",
    "        index_.append(index)"
   ]
  },
  {
   "cell_type": "code",
   "execution_count": 13,
   "metadata": {},
   "outputs": [
    {
     "data": {
      "text/plain": [
       "[]"
      ]
     },
     "execution_count": 13,
     "metadata": {},
     "output_type": "execute_result"
    }
   ],
   "source": [
    "index_"
   ]
  },
  {
   "cell_type": "code",
   "execution_count": 14,
   "metadata": {},
   "outputs": [
    {
     "data": {
      "text/html": [
       "<div>\n",
       "<style scoped>\n",
       "    .dataframe tbody tr th:only-of-type {\n",
       "        vertical-align: middle;\n",
       "    }\n",
       "\n",
       "    .dataframe tbody tr th {\n",
       "        vertical-align: top;\n",
       "    }\n",
       "\n",
       "    .dataframe thead th {\n",
       "        text-align: right;\n",
       "    }\n",
       "</style>\n",
       "<table border=\"1\" class=\"dataframe\">\n",
       "  <thead>\n",
       "    <tr style=\"text-align: right;\">\n",
       "      <th></th>\n",
       "      <th>initial_index</th>\n",
       "      <th>raw_address</th>\n",
       "      <th>parsed_address</th>\n",
       "      <th>parsed_street_name</th>\n",
       "      <th>index_parsed_address</th>\n",
       "      <th>StreetNamePreType</th>\n",
       "      <th>address_number</th>\n",
       "    </tr>\n",
       "  </thead>\n",
       "  <tbody>\n",
       "    <tr>\n",
       "      <th>0</th>\n",
       "      <td>1</td>\n",
       "      <td>25737 US Rt 11, Evans Mills NY 13637</td>\n",
       "      <td>{'AddressNumber': '25737', 'StreetNamePreType'...</td>\n",
       "      <td>11</td>\n",
       "      <td>None</td>\n",
       "      <td></td>\n",
       "      <td>25737</td>\n",
       "    </tr>\n",
       "    <tr>\n",
       "      <th>1</th>\n",
       "      <td>2</td>\n",
       "      <td>901 Route 110, Farmingdale NY 11735</td>\n",
       "      <td>{'AddressNumber': '901', 'StreetNamePreType': ...</td>\n",
       "      <td>110</td>\n",
       "      <td>None</td>\n",
       "      <td></td>\n",
       "      <td>901</td>\n",
       "    </tr>\n",
       "    <tr>\n",
       "      <th>2</th>\n",
       "      <td>3</td>\n",
       "      <td>2400 Route 9, Fishkill NY 12524</td>\n",
       "      <td>{'AddressNumber': '2400', 'StreetNamePreType':...</td>\n",
       "      <td>9</td>\n",
       "      <td>None</td>\n",
       "      <td></td>\n",
       "      <td>2400</td>\n",
       "    </tr>\n",
       "    <tr>\n",
       "      <th>3</th>\n",
       "      <td>4</td>\n",
       "      <td>10401 Bennett Road, Fredonia NY 14063</td>\n",
       "      <td>{'AddressNumber': '10401', 'StreetName': 'Benn...</td>\n",
       "      <td>Bennett</td>\n",
       "      <td>None</td>\n",
       "      <td></td>\n",
       "      <td>10401</td>\n",
       "    </tr>\n",
       "    <tr>\n",
       "      <th>4</th>\n",
       "      <td>5</td>\n",
       "      <td>1818 State Route 3, Fulton NY 13069</td>\n",
       "      <td>{'AddressNumber': '1818', 'StreetNamePreType':...</td>\n",
       "      <td>3</td>\n",
       "      <td>None</td>\n",
       "      <td></td>\n",
       "      <td>1818</td>\n",
       "    </tr>\n",
       "  </tbody>\n",
       "</table>\n",
       "</div>"
      ],
      "text/plain": [
       "   initial_index                            raw_address  \\\n",
       "0              1   25737 US Rt 11, Evans Mills NY 13637   \n",
       "1              2    901 Route 110, Farmingdale NY 11735   \n",
       "2              3        2400 Route 9, Fishkill NY 12524   \n",
       "3              4  10401 Bennett Road, Fredonia NY 14063   \n",
       "4              5    1818 State Route 3, Fulton NY 13069   \n",
       "\n",
       "                                      parsed_address parsed_street_name  \\\n",
       "0  {'AddressNumber': '25737', 'StreetNamePreType'...                 11   \n",
       "1  {'AddressNumber': '901', 'StreetNamePreType': ...                110   \n",
       "2  {'AddressNumber': '2400', 'StreetNamePreType':...                  9   \n",
       "3  {'AddressNumber': '10401', 'StreetName': 'Benn...            Bennett   \n",
       "4  {'AddressNumber': '1818', 'StreetNamePreType':...                  3   \n",
       "\n",
       "  index_parsed_address StreetNamePreType address_number  \n",
       "0                 None                            25737  \n",
       "1                 None                              901  \n",
       "2                 None                             2400  \n",
       "3                 None                            10401  \n",
       "4                 None                             1818  "
      ]
     },
     "execution_count": 14,
     "metadata": {},
     "output_type": "execute_result"
    }
   ],
   "source": [
    "df.head()"
   ]
  },
  {
   "cell_type": "code",
   "execution_count": 15,
   "metadata": {},
   "outputs": [
    {
     "data": {
      "text/plain": [
       "OrderedDict([('AddressNumber', '25737'),\n",
       "             ('StreetNamePreType', 'US Rt'),\n",
       "             ('StreetName', '11'),\n",
       "             ('PlaceName', 'Evans Mills'),\n",
       "             ('StateName', 'NY'),\n",
       "             ('ZipCode', '13637'),\n",
       "             ('initial_index', 1)])"
      ]
     },
     "execution_count": 15,
     "metadata": {},
     "output_type": "execute_result"
    }
   ],
   "source": [
    "df.loc[0]['parsed_address']"
   ]
  },
  {
   "cell_type": "code",
   "execution_count": 16,
   "metadata": {
    "collapsed": true
   },
   "outputs": [],
   "source": [
    "df.drop(['index_parsed_address'], axis=1, inplace=True)"
   ]
  },
  {
   "cell_type": "code",
   "execution_count": 17,
   "metadata": {},
   "outputs": [
    {
     "data": {
      "text/html": [
       "<div>\n",
       "<style scoped>\n",
       "    .dataframe tbody tr th:only-of-type {\n",
       "        vertical-align: middle;\n",
       "    }\n",
       "\n",
       "    .dataframe tbody tr th {\n",
       "        vertical-align: top;\n",
       "    }\n",
       "\n",
       "    .dataframe thead th {\n",
       "        text-align: right;\n",
       "    }\n",
       "</style>\n",
       "<table border=\"1\" class=\"dataframe\">\n",
       "  <thead>\n",
       "    <tr style=\"text-align: right;\">\n",
       "      <th></th>\n",
       "      <th>initial_index</th>\n",
       "      <th>raw_address</th>\n",
       "      <th>parsed_address</th>\n",
       "      <th>parsed_street_name</th>\n",
       "      <th>StreetNamePreType</th>\n",
       "      <th>address_number</th>\n",
       "    </tr>\n",
       "  </thead>\n",
       "  <tbody>\n",
       "    <tr>\n",
       "      <th>0</th>\n",
       "      <td>1</td>\n",
       "      <td>25737 US Rt 11, Evans Mills NY 13637</td>\n",
       "      <td>{'AddressNumber': '25737', 'StreetNamePreType'...</td>\n",
       "      <td>11</td>\n",
       "      <td></td>\n",
       "      <td>25737</td>\n",
       "    </tr>\n",
       "    <tr>\n",
       "      <th>1</th>\n",
       "      <td>2</td>\n",
       "      <td>901 Route 110, Farmingdale NY 11735</td>\n",
       "      <td>{'AddressNumber': '901', 'StreetNamePreType': ...</td>\n",
       "      <td>110</td>\n",
       "      <td></td>\n",
       "      <td>901</td>\n",
       "    </tr>\n",
       "    <tr>\n",
       "      <th>2</th>\n",
       "      <td>3</td>\n",
       "      <td>2400 Route 9, Fishkill NY 12524</td>\n",
       "      <td>{'AddressNumber': '2400', 'StreetNamePreType':...</td>\n",
       "      <td>9</td>\n",
       "      <td></td>\n",
       "      <td>2400</td>\n",
       "    </tr>\n",
       "    <tr>\n",
       "      <th>3</th>\n",
       "      <td>4</td>\n",
       "      <td>10401 Bennett Road, Fredonia NY 14063</td>\n",
       "      <td>{'AddressNumber': '10401', 'StreetName': 'Benn...</td>\n",
       "      <td>Bennett</td>\n",
       "      <td></td>\n",
       "      <td>10401</td>\n",
       "    </tr>\n",
       "    <tr>\n",
       "      <th>4</th>\n",
       "      <td>5</td>\n",
       "      <td>1818 State Route 3, Fulton NY 13069</td>\n",
       "      <td>{'AddressNumber': '1818', 'StreetNamePreType':...</td>\n",
       "      <td>3</td>\n",
       "      <td></td>\n",
       "      <td>1818</td>\n",
       "    </tr>\n",
       "  </tbody>\n",
       "</table>\n",
       "</div>"
      ],
      "text/plain": [
       "   initial_index                            raw_address  \\\n",
       "0              1   25737 US Rt 11, Evans Mills NY 13637   \n",
       "1              2    901 Route 110, Farmingdale NY 11735   \n",
       "2              3        2400 Route 9, Fishkill NY 12524   \n",
       "3              4  10401 Bennett Road, Fredonia NY 14063   \n",
       "4              5    1818 State Route 3, Fulton NY 13069   \n",
       "\n",
       "                                      parsed_address parsed_street_name  \\\n",
       "0  {'AddressNumber': '25737', 'StreetNamePreType'...                 11   \n",
       "1  {'AddressNumber': '901', 'StreetNamePreType': ...                110   \n",
       "2  {'AddressNumber': '2400', 'StreetNamePreType':...                  9   \n",
       "3  {'AddressNumber': '10401', 'StreetName': 'Benn...            Bennett   \n",
       "4  {'AddressNumber': '1818', 'StreetNamePreType':...                  3   \n",
       "\n",
       "  StreetNamePreType address_number  \n",
       "0                            25737  \n",
       "1                              901  \n",
       "2                             2400  \n",
       "3                            10401  \n",
       "4                             1818  "
      ]
     },
     "execution_count": 17,
     "metadata": {},
     "output_type": "execute_result"
    }
   ],
   "source": [
    "df.head()"
   ]
  },
  {
   "cell_type": "code",
   "execution_count": 18,
   "metadata": {},
   "outputs": [
    {
     "name": "stdout",
     "output_type": "stream",
     "text": [
      "3\n",
      "5\n",
      "8\n",
      "9\n",
      "11\n",
      "12\n",
      "15\n",
      "16\n",
      "17\n",
      "18\n",
      "19\n"
     ]
    },
    {
     "name": "stderr",
     "output_type": "stream",
     "text": [
      "/Users/gta/anaconda3/lib/python3.6/site-packages/ipykernel_launcher.py:4: FutureWarning: set_value is deprecated and will be removed in a future release. Please use .at[] or .iat[] accessors instead\n",
      "  after removing the cwd from sys.path.\n"
     ]
    }
   ],
   "source": [
    "index_ = []\n",
    "for index, row in df.iterrows():\n",
    "    try:\n",
    "        df.set_value(index, 'StreetNamePreType', row['parsed_address']['StreetNamePreType'])\n",
    "    except:\n",
    "        print(index)"
   ]
  },
  {
   "cell_type": "code",
   "execution_count": 19,
   "metadata": {},
   "outputs": [
    {
     "data": {
      "text/plain": [
       "[]"
      ]
     },
     "execution_count": 19,
     "metadata": {},
     "output_type": "execute_result"
    }
   ],
   "source": [
    "index_"
   ]
  },
  {
   "cell_type": "code",
   "execution_count": 20,
   "metadata": {},
   "outputs": [
    {
     "data": {
      "text/html": [
       "<div>\n",
       "<style scoped>\n",
       "    .dataframe tbody tr th:only-of-type {\n",
       "        vertical-align: middle;\n",
       "    }\n",
       "\n",
       "    .dataframe tbody tr th {\n",
       "        vertical-align: top;\n",
       "    }\n",
       "\n",
       "    .dataframe thead th {\n",
       "        text-align: right;\n",
       "    }\n",
       "</style>\n",
       "<table border=\"1\" class=\"dataframe\">\n",
       "  <thead>\n",
       "    <tr style=\"text-align: right;\">\n",
       "      <th></th>\n",
       "      <th>initial_index</th>\n",
       "      <th>raw_address</th>\n",
       "      <th>parsed_address</th>\n",
       "      <th>parsed_street_name</th>\n",
       "      <th>StreetNamePreType</th>\n",
       "      <th>address_number</th>\n",
       "    </tr>\n",
       "  </thead>\n",
       "  <tbody>\n",
       "    <tr>\n",
       "      <th>0</th>\n",
       "      <td>1</td>\n",
       "      <td>25737 US Rt 11, Evans Mills NY 13637</td>\n",
       "      <td>{'AddressNumber': '25737', 'StreetNamePreType'...</td>\n",
       "      <td>11</td>\n",
       "      <td>US Rt</td>\n",
       "      <td>25737</td>\n",
       "    </tr>\n",
       "    <tr>\n",
       "      <th>1</th>\n",
       "      <td>2</td>\n",
       "      <td>901 Route 110, Farmingdale NY 11735</td>\n",
       "      <td>{'AddressNumber': '901', 'StreetNamePreType': ...</td>\n",
       "      <td>110</td>\n",
       "      <td>Route</td>\n",
       "      <td>901</td>\n",
       "    </tr>\n",
       "    <tr>\n",
       "      <th>2</th>\n",
       "      <td>3</td>\n",
       "      <td>2400 Route 9, Fishkill NY 12524</td>\n",
       "      <td>{'AddressNumber': '2400', 'StreetNamePreType':...</td>\n",
       "      <td>9</td>\n",
       "      <td>Route</td>\n",
       "      <td>2400</td>\n",
       "    </tr>\n",
       "    <tr>\n",
       "      <th>3</th>\n",
       "      <td>4</td>\n",
       "      <td>10401 Bennett Road, Fredonia NY 14063</td>\n",
       "      <td>{'AddressNumber': '10401', 'StreetName': 'Benn...</td>\n",
       "      <td>Bennett</td>\n",
       "      <td></td>\n",
       "      <td>10401</td>\n",
       "    </tr>\n",
       "    <tr>\n",
       "      <th>4</th>\n",
       "      <td>5</td>\n",
       "      <td>1818 State Route 3, Fulton NY 13069</td>\n",
       "      <td>{'AddressNumber': '1818', 'StreetNamePreType':...</td>\n",
       "      <td>3</td>\n",
       "      <td>State Route</td>\n",
       "      <td>1818</td>\n",
       "    </tr>\n",
       "  </tbody>\n",
       "</table>\n",
       "</div>"
      ],
      "text/plain": [
       "   initial_index                            raw_address  \\\n",
       "0              1   25737 US Rt 11, Evans Mills NY 13637   \n",
       "1              2    901 Route 110, Farmingdale NY 11735   \n",
       "2              3        2400 Route 9, Fishkill NY 12524   \n",
       "3              4  10401 Bennett Road, Fredonia NY 14063   \n",
       "4              5    1818 State Route 3, Fulton NY 13069   \n",
       "\n",
       "                                      parsed_address parsed_street_name  \\\n",
       "0  {'AddressNumber': '25737', 'StreetNamePreType'...                 11   \n",
       "1  {'AddressNumber': '901', 'StreetNamePreType': ...                110   \n",
       "2  {'AddressNumber': '2400', 'StreetNamePreType':...                  9   \n",
       "3  {'AddressNumber': '10401', 'StreetName': 'Benn...            Bennett   \n",
       "4  {'AddressNumber': '1818', 'StreetNamePreType':...                  3   \n",
       "\n",
       "  StreetNamePreType address_number  \n",
       "0             US Rt          25737  \n",
       "1             Route            901  \n",
       "2             Route           2400  \n",
       "3                            10401  \n",
       "4       State Route           1818  "
      ]
     },
     "execution_count": 20,
     "metadata": {},
     "output_type": "execute_result"
    }
   ],
   "source": [
    "df.head()"
   ]
  },
  {
   "cell_type": "code",
   "execution_count": 21,
   "metadata": {},
   "outputs": [
    {
     "data": {
      "text/plain": [
       "True"
      ]
     },
     "execution_count": 21,
     "metadata": {},
     "output_type": "execute_result"
    }
   ],
   "source": [
    "isinstance(df.loc[0]['parsed_street_name'], str)"
   ]
  },
  {
   "cell_type": "code",
   "execution_count": 22,
   "metadata": {},
   "outputs": [
    {
     "name": "stdout",
     "output_type": "stream",
     "text": [
      "else // 3\n",
      "else // 5\n",
      "else // 8\n",
      "else // 9\n",
      "else // 11\n",
      "else // 12\n",
      "else // 15\n",
      "else // 16\n",
      "else // 18\n",
      "else // 19\n"
     ]
    },
    {
     "name": "stderr",
     "output_type": "stream",
     "text": [
      "/Users/gta/anaconda3/lib/python3.6/site-packages/ipykernel_launcher.py:7: FutureWarning: set_value is deprecated and will be removed in a future release. Please use .at[] or .iat[] accessors instead\n",
      "  import sys\n",
      "/Users/gta/anaconda3/lib/python3.6/site-packages/ipykernel_launcher.py:10: FutureWarning: set_value is deprecated and will be removed in a future release. Please use .at[] or .iat[] accessors instead\n",
      "  # Remove the CWD from sys.path while we load stuff.\n"
     ]
    }
   ],
   "source": [
    "df['combined_string_1'] = ''\n",
    "df['combined_string'] = ''\n",
    "index_ = []\n",
    "for index, row in df.iterrows():\n",
    "    try:\n",
    "        if any(c.isdigit() for c in row['parsed_street_name']):\n",
    "            df.set_value(index, 'combined_string_1', row['parsed_street_name'])\n",
    "        else:\n",
    "            print('else // {}'.format(index))\n",
    "            df.set_value(index, 'combined_string_1', '')\n",
    "    except:\n",
    "        print('except')\n",
    "        index_.append(index)"
   ]
  },
  {
   "cell_type": "code",
   "execution_count": 23,
   "metadata": {},
   "outputs": [
    {
     "data": {
      "text/plain": [
       "[]"
      ]
     },
     "execution_count": 23,
     "metadata": {},
     "output_type": "execute_result"
    }
   ],
   "source": [
    "index_"
   ]
  },
  {
   "cell_type": "code",
   "execution_count": 24,
   "metadata": {},
   "outputs": [
    {
     "data": {
      "text/html": [
       "<div>\n",
       "<style scoped>\n",
       "    .dataframe tbody tr th:only-of-type {\n",
       "        vertical-align: middle;\n",
       "    }\n",
       "\n",
       "    .dataframe tbody tr th {\n",
       "        vertical-align: top;\n",
       "    }\n",
       "\n",
       "    .dataframe thead th {\n",
       "        text-align: right;\n",
       "    }\n",
       "</style>\n",
       "<table border=\"1\" class=\"dataframe\">\n",
       "  <thead>\n",
       "    <tr style=\"text-align: right;\">\n",
       "      <th></th>\n",
       "      <th>initial_index</th>\n",
       "      <th>raw_address</th>\n",
       "      <th>parsed_address</th>\n",
       "      <th>parsed_street_name</th>\n",
       "      <th>StreetNamePreType</th>\n",
       "      <th>address_number</th>\n",
       "      <th>combined_string_1</th>\n",
       "      <th>combined_string</th>\n",
       "    </tr>\n",
       "  </thead>\n",
       "  <tbody>\n",
       "    <tr>\n",
       "      <th>0</th>\n",
       "      <td>1</td>\n",
       "      <td>25737 US Rt 11, Evans Mills NY 13637</td>\n",
       "      <td>{'AddressNumber': '25737', 'StreetNamePreType'...</td>\n",
       "      <td>11</td>\n",
       "      <td>US Rt</td>\n",
       "      <td>25737</td>\n",
       "      <td>11</td>\n",
       "      <td></td>\n",
       "    </tr>\n",
       "    <tr>\n",
       "      <th>1</th>\n",
       "      <td>2</td>\n",
       "      <td>901 Route 110, Farmingdale NY 11735</td>\n",
       "      <td>{'AddressNumber': '901', 'StreetNamePreType': ...</td>\n",
       "      <td>110</td>\n",
       "      <td>Route</td>\n",
       "      <td>901</td>\n",
       "      <td>110</td>\n",
       "      <td></td>\n",
       "    </tr>\n",
       "    <tr>\n",
       "      <th>2</th>\n",
       "      <td>3</td>\n",
       "      <td>2400 Route 9, Fishkill NY 12524</td>\n",
       "      <td>{'AddressNumber': '2400', 'StreetNamePreType':...</td>\n",
       "      <td>9</td>\n",
       "      <td>Route</td>\n",
       "      <td>2400</td>\n",
       "      <td>9</td>\n",
       "      <td></td>\n",
       "    </tr>\n",
       "    <tr>\n",
       "      <th>3</th>\n",
       "      <td>4</td>\n",
       "      <td>10401 Bennett Road, Fredonia NY 14063</td>\n",
       "      <td>{'AddressNumber': '10401', 'StreetName': 'Benn...</td>\n",
       "      <td>Bennett</td>\n",
       "      <td></td>\n",
       "      <td>10401</td>\n",
       "      <td></td>\n",
       "      <td></td>\n",
       "    </tr>\n",
       "    <tr>\n",
       "      <th>4</th>\n",
       "      <td>5</td>\n",
       "      <td>1818 State Route 3, Fulton NY 13069</td>\n",
       "      <td>{'AddressNumber': '1818', 'StreetNamePreType':...</td>\n",
       "      <td>3</td>\n",
       "      <td>State Route</td>\n",
       "      <td>1818</td>\n",
       "      <td>3</td>\n",
       "      <td></td>\n",
       "    </tr>\n",
       "  </tbody>\n",
       "</table>\n",
       "</div>"
      ],
      "text/plain": [
       "   initial_index                            raw_address  \\\n",
       "0              1   25737 US Rt 11, Evans Mills NY 13637   \n",
       "1              2    901 Route 110, Farmingdale NY 11735   \n",
       "2              3        2400 Route 9, Fishkill NY 12524   \n",
       "3              4  10401 Bennett Road, Fredonia NY 14063   \n",
       "4              5    1818 State Route 3, Fulton NY 13069   \n",
       "\n",
       "                                      parsed_address parsed_street_name  \\\n",
       "0  {'AddressNumber': '25737', 'StreetNamePreType'...                 11   \n",
       "1  {'AddressNumber': '901', 'StreetNamePreType': ...                110   \n",
       "2  {'AddressNumber': '2400', 'StreetNamePreType':...                  9   \n",
       "3  {'AddressNumber': '10401', 'StreetName': 'Benn...            Bennett   \n",
       "4  {'AddressNumber': '1818', 'StreetNamePreType':...                  3   \n",
       "\n",
       "  StreetNamePreType address_number combined_string_1 combined_string  \n",
       "0             US Rt          25737                11                  \n",
       "1             Route            901               110                  \n",
       "2             Route           2400                 9                  \n",
       "3                            10401                                    \n",
       "4       State Route           1818                 3                  "
      ]
     },
     "execution_count": 24,
     "metadata": {},
     "output_type": "execute_result"
    }
   ],
   "source": [
    "df.head()"
   ]
  },
  {
   "cell_type": "code",
   "execution_count": 25,
   "metadata": {},
   "outputs": [],
   "source": [
    "df['combined_string'] = df['StreetNamePreType'].str.rstrip() + ' ' +df['combined_string_1'].str.rstrip()"
   ]
  },
  {
   "cell_type": "code",
   "execution_count": 26,
   "metadata": {},
   "outputs": [
    {
     "data": {
      "text/html": [
       "<div>\n",
       "<style scoped>\n",
       "    .dataframe tbody tr th:only-of-type {\n",
       "        vertical-align: middle;\n",
       "    }\n",
       "\n",
       "    .dataframe tbody tr th {\n",
       "        vertical-align: top;\n",
       "    }\n",
       "\n",
       "    .dataframe thead th {\n",
       "        text-align: right;\n",
       "    }\n",
       "</style>\n",
       "<table border=\"1\" class=\"dataframe\">\n",
       "  <thead>\n",
       "    <tr style=\"text-align: right;\">\n",
       "      <th></th>\n",
       "      <th>initial_index</th>\n",
       "      <th>raw_address</th>\n",
       "      <th>parsed_address</th>\n",
       "      <th>parsed_street_name</th>\n",
       "      <th>StreetNamePreType</th>\n",
       "      <th>address_number</th>\n",
       "      <th>combined_string_1</th>\n",
       "      <th>combined_string</th>\n",
       "    </tr>\n",
       "  </thead>\n",
       "  <tbody>\n",
       "    <tr>\n",
       "      <th>0</th>\n",
       "      <td>1</td>\n",
       "      <td>25737 US Rt 11, Evans Mills NY 13637</td>\n",
       "      <td>{'AddressNumber': '25737', 'StreetNamePreType'...</td>\n",
       "      <td>11</td>\n",
       "      <td>US Rt</td>\n",
       "      <td>25737</td>\n",
       "      <td>11</td>\n",
       "      <td>US Rt 11</td>\n",
       "    </tr>\n",
       "    <tr>\n",
       "      <th>1</th>\n",
       "      <td>2</td>\n",
       "      <td>901 Route 110, Farmingdale NY 11735</td>\n",
       "      <td>{'AddressNumber': '901', 'StreetNamePreType': ...</td>\n",
       "      <td>110</td>\n",
       "      <td>Route</td>\n",
       "      <td>901</td>\n",
       "      <td>110</td>\n",
       "      <td>Route 110</td>\n",
       "    </tr>\n",
       "    <tr>\n",
       "      <th>2</th>\n",
       "      <td>3</td>\n",
       "      <td>2400 Route 9, Fishkill NY 12524</td>\n",
       "      <td>{'AddressNumber': '2400', 'StreetNamePreType':...</td>\n",
       "      <td>9</td>\n",
       "      <td>Route</td>\n",
       "      <td>2400</td>\n",
       "      <td>9</td>\n",
       "      <td>Route 9</td>\n",
       "    </tr>\n",
       "    <tr>\n",
       "      <th>3</th>\n",
       "      <td>4</td>\n",
       "      <td>10401 Bennett Road, Fredonia NY 14063</td>\n",
       "      <td>{'AddressNumber': '10401', 'StreetName': 'Benn...</td>\n",
       "      <td>Bennett</td>\n",
       "      <td></td>\n",
       "      <td>10401</td>\n",
       "      <td></td>\n",
       "      <td></td>\n",
       "    </tr>\n",
       "    <tr>\n",
       "      <th>4</th>\n",
       "      <td>5</td>\n",
       "      <td>1818 State Route 3, Fulton NY 13069</td>\n",
       "      <td>{'AddressNumber': '1818', 'StreetNamePreType':...</td>\n",
       "      <td>3</td>\n",
       "      <td>State Route</td>\n",
       "      <td>1818</td>\n",
       "      <td>3</td>\n",
       "      <td>State Route 3</td>\n",
       "    </tr>\n",
       "  </tbody>\n",
       "</table>\n",
       "</div>"
      ],
      "text/plain": [
       "   initial_index                            raw_address  \\\n",
       "0              1   25737 US Rt 11, Evans Mills NY 13637   \n",
       "1              2    901 Route 110, Farmingdale NY 11735   \n",
       "2              3        2400 Route 9, Fishkill NY 12524   \n",
       "3              4  10401 Bennett Road, Fredonia NY 14063   \n",
       "4              5    1818 State Route 3, Fulton NY 13069   \n",
       "\n",
       "                                      parsed_address parsed_street_name  \\\n",
       "0  {'AddressNumber': '25737', 'StreetNamePreType'...                 11   \n",
       "1  {'AddressNumber': '901', 'StreetNamePreType': ...                110   \n",
       "2  {'AddressNumber': '2400', 'StreetNamePreType':...                  9   \n",
       "3  {'AddressNumber': '10401', 'StreetName': 'Benn...            Bennett   \n",
       "4  {'AddressNumber': '1818', 'StreetNamePreType':...                  3   \n",
       "\n",
       "  StreetNamePreType address_number combined_string_1 combined_string  \n",
       "0             US Rt          25737                11        US Rt 11  \n",
       "1             Route            901               110       Route 110  \n",
       "2             Route           2400                 9         Route 9  \n",
       "3                            10401                                    \n",
       "4       State Route           1818                 3   State Route 3  "
      ]
     },
     "execution_count": 26,
     "metadata": {},
     "output_type": "execute_result"
    }
   ],
   "source": [
    "df.head()"
   ]
  },
  {
   "cell_type": "code",
   "execution_count": 27,
   "metadata": {},
   "outputs": [
    {
     "data": {
      "text/plain": [
       "OrderedDict([('AddressNumber', '25737'),\n",
       "             ('StreetNamePreType', 'US Rt'),\n",
       "             ('StreetName', '11'),\n",
       "             ('PlaceName', 'Evans Mills'),\n",
       "             ('StateName', 'NY'),\n",
       "             ('ZipCode', '13637'),\n",
       "             ('initial_index', 1)])"
      ]
     },
     "execution_count": 27,
     "metadata": {},
     "output_type": "execute_result"
    }
   ],
   "source": [
    "df.loc[0]['parsed_address']"
   ]
  },
  {
   "cell_type": "code",
   "execution_count": 28,
   "metadata": {},
   "outputs": [
    {
     "name": "stdout",
     "output_type": "stream",
     "text": [
      "[0, 1, 2, 4, 6, 7, 10, 13, 14, 17]\n"
     ]
    },
    {
     "name": "stderr",
     "output_type": "stream",
     "text": [
      "/Users/gta/anaconda3/lib/python3.6/site-packages/ipykernel_launcher.py:4: FutureWarning: set_value is deprecated and will be removed in a future release. Please use .at[] or .iat[] accessors instead\n",
      "  after removing the cwd from sys.path.\n"
     ]
    }
   ],
   "source": [
    "index_ = []\n",
    "for index, row in df.iterrows():\n",
    "    if row['combined_string'] == ' ':\n",
    "        df.set_value(index, 'combined_string', row['parsed_street_name'])\n",
    "    else:\n",
    "        pass\n",
    "        index_.append(index)\n",
    "print(index_)"
   ]
  },
  {
   "cell_type": "code",
   "execution_count": 29,
   "metadata": {},
   "outputs": [
    {
     "data": {
      "text/html": [
       "<div>\n",
       "<style scoped>\n",
       "    .dataframe tbody tr th:only-of-type {\n",
       "        vertical-align: middle;\n",
       "    }\n",
       "\n",
       "    .dataframe tbody tr th {\n",
       "        vertical-align: top;\n",
       "    }\n",
       "\n",
       "    .dataframe thead th {\n",
       "        text-align: right;\n",
       "    }\n",
       "</style>\n",
       "<table border=\"1\" class=\"dataframe\">\n",
       "  <thead>\n",
       "    <tr style=\"text-align: right;\">\n",
       "      <th></th>\n",
       "      <th>initial_index</th>\n",
       "      <th>raw_address</th>\n",
       "      <th>parsed_address</th>\n",
       "      <th>parsed_street_name</th>\n",
       "      <th>StreetNamePreType</th>\n",
       "      <th>address_number</th>\n",
       "      <th>combined_string_1</th>\n",
       "      <th>combined_string</th>\n",
       "    </tr>\n",
       "  </thead>\n",
       "  <tbody>\n",
       "    <tr>\n",
       "      <th>0</th>\n",
       "      <td>1</td>\n",
       "      <td>25737 US Rt 11, Evans Mills NY 13637</td>\n",
       "      <td>{'AddressNumber': '25737', 'StreetNamePreType'...</td>\n",
       "      <td>11</td>\n",
       "      <td>US Rt</td>\n",
       "      <td>25737</td>\n",
       "      <td>11</td>\n",
       "      <td>US Rt 11</td>\n",
       "    </tr>\n",
       "    <tr>\n",
       "      <th>1</th>\n",
       "      <td>2</td>\n",
       "      <td>901 Route 110, Farmingdale NY 11735</td>\n",
       "      <td>{'AddressNumber': '901', 'StreetNamePreType': ...</td>\n",
       "      <td>110</td>\n",
       "      <td>Route</td>\n",
       "      <td>901</td>\n",
       "      <td>110</td>\n",
       "      <td>Route 110</td>\n",
       "    </tr>\n",
       "    <tr>\n",
       "      <th>2</th>\n",
       "      <td>3</td>\n",
       "      <td>2400 Route 9, Fishkill NY 12524</td>\n",
       "      <td>{'AddressNumber': '2400', 'StreetNamePreType':...</td>\n",
       "      <td>9</td>\n",
       "      <td>Route</td>\n",
       "      <td>2400</td>\n",
       "      <td>9</td>\n",
       "      <td>Route 9</td>\n",
       "    </tr>\n",
       "    <tr>\n",
       "      <th>3</th>\n",
       "      <td>4</td>\n",
       "      <td>10401 Bennett Road, Fredonia NY 14063</td>\n",
       "      <td>{'AddressNumber': '10401', 'StreetName': 'Benn...</td>\n",
       "      <td>Bennett</td>\n",
       "      <td></td>\n",
       "      <td>10401</td>\n",
       "      <td></td>\n",
       "      <td>Bennett</td>\n",
       "    </tr>\n",
       "    <tr>\n",
       "      <th>4</th>\n",
       "      <td>5</td>\n",
       "      <td>1818 State Route 3, Fulton NY 13069</td>\n",
       "      <td>{'AddressNumber': '1818', 'StreetNamePreType':...</td>\n",
       "      <td>3</td>\n",
       "      <td>State Route</td>\n",
       "      <td>1818</td>\n",
       "      <td>3</td>\n",
       "      <td>State Route 3</td>\n",
       "    </tr>\n",
       "  </tbody>\n",
       "</table>\n",
       "</div>"
      ],
      "text/plain": [
       "   initial_index                            raw_address  \\\n",
       "0              1   25737 US Rt 11, Evans Mills NY 13637   \n",
       "1              2    901 Route 110, Farmingdale NY 11735   \n",
       "2              3        2400 Route 9, Fishkill NY 12524   \n",
       "3              4  10401 Bennett Road, Fredonia NY 14063   \n",
       "4              5    1818 State Route 3, Fulton NY 13069   \n",
       "\n",
       "                                      parsed_address parsed_street_name  \\\n",
       "0  {'AddressNumber': '25737', 'StreetNamePreType'...                 11   \n",
       "1  {'AddressNumber': '901', 'StreetNamePreType': ...                110   \n",
       "2  {'AddressNumber': '2400', 'StreetNamePreType':...                  9   \n",
       "3  {'AddressNumber': '10401', 'StreetName': 'Benn...            Bennett   \n",
       "4  {'AddressNumber': '1818', 'StreetNamePreType':...                  3   \n",
       "\n",
       "  StreetNamePreType address_number combined_string_1 combined_string  \n",
       "0             US Rt          25737                11        US Rt 11  \n",
       "1             Route            901               110       Route 110  \n",
       "2             Route           2400                 9         Route 9  \n",
       "3                            10401                           Bennett  \n",
       "4       State Route           1818                 3   State Route 3  "
      ]
     },
     "execution_count": 29,
     "metadata": {},
     "output_type": "execute_result"
    }
   ],
   "source": [
    "df.head()\n",
    "#Combined_string is the street name."
   ]
  },
  {
   "cell_type": "code",
   "execution_count": 30,
   "metadata": {},
   "outputs": [
    {
     "data": {
      "text/plain": [
       "'Bennett'"
      ]
     },
     "execution_count": 30,
     "metadata": {},
     "output_type": "execute_result"
    }
   ],
   "source": [
    "df.loc[3]['combined_string']"
   ]
  },
  {
   "cell_type": "code",
   "execution_count": null,
   "metadata": {
    "collapsed": true
   },
   "outputs": [],
   "source": []
  }
 ],
 "metadata": {
  "kernelspec": {
   "display_name": "Python 3",
   "language": "python",
   "name": "python3"
  },
  "language_info": {
   "codemirror_mode": {
    "name": "ipython",
    "version": 3
   },
   "file_extension": ".py",
   "mimetype": "text/x-python",
   "name": "python",
   "nbconvert_exporter": "python",
   "pygments_lexer": "ipython3",
   "version": "3.6.3"
  }
 },
 "nbformat": 4,
 "nbformat_minor": 2
}
